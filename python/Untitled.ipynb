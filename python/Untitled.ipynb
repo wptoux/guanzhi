{
 "cells": [
  {
   "cell_type": "code",
   "execution_count": 1,
   "metadata": {
    "collapsed": true
   },
   "outputs": [],
   "source": [
    "import os"
   ]
  },
  {
   "cell_type": "code",
   "execution_count": 3,
   "metadata": {},
   "outputs": [],
   "source": [
    "fns = os.listdir('../data/论语/')"
   ]
  },
  {
   "cell_type": "code",
   "execution_count": 4,
   "metadata": {},
   "outputs": [
    {
     "name": "stdout",
     "output_type": "stream",
     "text": [
      "为政第二.txt\n",
      "乡党第十.txt\n",
      "先进第十一.txt\n",
      "八佾第三.txt\n",
      "公冶长第五.txt\n",
      "卫灵公第十五.txt\n",
      "子张第十九.txt\n",
      "子罕第九.txt\n",
      "子路第十三.txt\n",
      "季氏第十六.txt\n",
      "学而第一.txt\n",
      "宪问第十四.txt\n",
      "尧曰第二十.txt\n",
      "微子第十八.txt\n",
      "泰伯第八.txt\n",
      "述而第七.txt\n",
      "里仁第四.txt\n",
      "阳货第十七.txt\n",
      "雍也第六.txt\n",
      "颜渊第十二.txt\n"
     ]
    }
   ],
   "source": [
    "for fn in fns:\n",
    "    print(fn)"
   ]
  }
 ],
 "metadata": {
  "kernelspec": {
   "display_name": "Python 3",
   "language": "python",
   "name": "python3"
  },
  "language_info": {
   "codemirror_mode": {
    "name": "ipython",
    "version": 3
   },
   "file_extension": ".py",
   "mimetype": "text/x-python",
   "name": "python",
   "nbconvert_exporter": "python",
   "pygments_lexer": "ipython3",
   "version": "3.6.3"
  }
 },
 "nbformat": 4,
 "nbformat_minor": 2
}
